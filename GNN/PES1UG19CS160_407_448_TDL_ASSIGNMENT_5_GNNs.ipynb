{
  "cells": [
    {
      "cell_type": "markdown",
      "metadata": {
        "id": "ltLdUzZxHPkz"
      },
      "source": [
        "<h1> Node Classification using Graph Convolutional Networks </h1>"
      ]
    },
    {
      "cell_type": "markdown",
      "metadata": {
        "id": "S0h_sNwcHPk8"
      },
      "source": [
        "This node classification task uses CORA dataset<br>\n",
        "The dataset consists of <b>2708</b> nodes which correspond to scientific publications.<br>\n",
        "The nodes are classified into <b>7</b> categories indicating the topics of each document.<br>\n",
        "The edges indicate whether a document is cited by the other or vice versa.<br>\n",
        "Each node has <b>1433</b> features which is described by a 0/1-valued vector.<br>\n"
      ]
    },
    {
      "cell_type": "code",
      "source": [
        "from google.colab import drive\n",
        "\n",
        "drive.mount('/content/gdrive')"
      ],
      "metadata": {
        "colab": {
          "base_uri": "https://localhost:8080/"
        },
        "id": "Nwt24ncQH7UJ",
        "outputId": "5cfc0c36-44c2-4914-8b05-ba3d89924243"
      },
      "execution_count": null,
      "outputs": [
        {
          "output_type": "stream",
          "name": "stdout",
          "text": [
            "Mounted at /content/gdrive\n"
          ]
        }
      ]
    },
    {
      "cell_type": "code",
      "source": [
        "!pip install tensorflow==2.3 spektral==0.6.1"
      ],
      "metadata": {
        "colab": {
          "base_uri": "https://localhost:8080/",
          "height": 1000
        },
        "id": "lf4oFm4HLMBe",
        "outputId": "4ba3bcb5-3e16-46e5-a58b-04293d73eca4"
      },
      "execution_count": null,
      "outputs": [
        {
          "output_type": "stream",
          "name": "stdout",
          "text": [
            "Collecting tensorflow==2.3\n",
            "  Downloading tensorflow-2.3.0-cp37-cp37m-manylinux2010_x86_64.whl (320.4 MB)\n",
            "\u001b[K     |████████████████████████████████| 320.4 MB 49 kB/s \n",
            "\u001b[?25hCollecting spektral==0.6.1\n",
            "  Downloading spektral-0.6.1-py3-none-any.whl (95 kB)\n",
            "\u001b[K     |████████████████████████████████| 95 kB 4.0 MB/s \n",
            "\u001b[?25hRequirement already satisfied: six>=1.12.0 in /usr/local/lib/python3.7/dist-packages (from tensorflow==2.3) (1.15.0)\n",
            "Requirement already satisfied: wrapt>=1.11.1 in /usr/local/lib/python3.7/dist-packages (from tensorflow==2.3) (1.14.0)\n",
            "Collecting numpy<1.19.0,>=1.16.0\n",
            "  Downloading numpy-1.18.5-cp37-cp37m-manylinux1_x86_64.whl (20.1 MB)\n",
            "\u001b[K     |████████████████████████████████| 20.1 MB 12.3 MB/s \n",
            "\u001b[?25hCollecting tensorflow-estimator<2.4.0,>=2.3.0\n",
            "  Downloading tensorflow_estimator-2.3.0-py2.py3-none-any.whl (459 kB)\n",
            "\u001b[K     |████████████████████████████████| 459 kB 52.7 MB/s \n",
            "\u001b[?25hRequirement already satisfied: absl-py>=0.7.0 in /usr/local/lib/python3.7/dist-packages (from tensorflow==2.3) (1.0.0)\n",
            "Requirement already satisfied: keras-preprocessing<1.2,>=1.1.1 in /usr/local/lib/python3.7/dist-packages (from tensorflow==2.3) (1.1.2)\n",
            "Requirement already satisfied: opt-einsum>=2.3.2 in /usr/local/lib/python3.7/dist-packages (from tensorflow==2.3) (3.3.0)\n",
            "Requirement already satisfied: scipy==1.4.1 in /usr/local/lib/python3.7/dist-packages (from tensorflow==2.3) (1.4.1)\n",
            "Requirement already satisfied: astunparse==1.6.3 in /usr/local/lib/python3.7/dist-packages (from tensorflow==2.3) (1.6.3)\n",
            "Collecting h5py<2.11.0,>=2.10.0\n",
            "  Downloading h5py-2.10.0-cp37-cp37m-manylinux1_x86_64.whl (2.9 MB)\n",
            "\u001b[K     |████████████████████████████████| 2.9 MB 41.3 MB/s \n",
            "\u001b[?25hRequirement already satisfied: tensorboard<3,>=2.3.0 in /usr/local/lib/python3.7/dist-packages (from tensorflow==2.3) (2.8.0)\n",
            "Requirement already satisfied: termcolor>=1.1.0 in /usr/local/lib/python3.7/dist-packages (from tensorflow==2.3) (1.1.0)\n",
            "Requirement already satisfied: wheel>=0.26 in /usr/local/lib/python3.7/dist-packages (from tensorflow==2.3) (0.37.1)\n",
            "Requirement already satisfied: grpcio>=1.8.6 in /usr/local/lib/python3.7/dist-packages (from tensorflow==2.3) (1.44.0)\n",
            "Requirement already satisfied: google-pasta>=0.1.8 in /usr/local/lib/python3.7/dist-packages (from tensorflow==2.3) (0.2.0)\n",
            "Requirement already satisfied: protobuf>=3.9.2 in /usr/local/lib/python3.7/dist-packages (from tensorflow==2.3) (3.17.3)\n",
            "Collecting gast==0.3.3\n",
            "  Downloading gast-0.3.3-py2.py3-none-any.whl (9.7 kB)\n",
            "Requirement already satisfied: scikit-learn in /usr/local/lib/python3.7/dist-packages (from spektral==0.6.1) (1.0.2)\n",
            "Requirement already satisfied: joblib in /usr/local/lib/python3.7/dist-packages (from spektral==0.6.1) (1.1.0)\n",
            "Requirement already satisfied: networkx in /usr/local/lib/python3.7/dist-packages (from spektral==0.6.1) (2.6.3)\n",
            "Requirement already satisfied: pandas in /usr/local/lib/python3.7/dist-packages (from spektral==0.6.1) (1.3.5)\n",
            "Requirement already satisfied: requests in /usr/local/lib/python3.7/dist-packages (from spektral==0.6.1) (2.23.0)\n",
            "Requirement already satisfied: lxml in /usr/local/lib/python3.7/dist-packages (from spektral==0.6.1) (4.2.6)\n",
            "Requirement already satisfied: google-auth<3,>=1.6.3 in /usr/local/lib/python3.7/dist-packages (from tensorboard<3,>=2.3.0->tensorflow==2.3) (1.35.0)\n",
            "Requirement already satisfied: tensorboard-data-server<0.7.0,>=0.6.0 in /usr/local/lib/python3.7/dist-packages (from tensorboard<3,>=2.3.0->tensorflow==2.3) (0.6.1)\n",
            "Requirement already satisfied: google-auth-oauthlib<0.5,>=0.4.1 in /usr/local/lib/python3.7/dist-packages (from tensorboard<3,>=2.3.0->tensorflow==2.3) (0.4.6)\n",
            "Requirement already satisfied: setuptools>=41.0.0 in /usr/local/lib/python3.7/dist-packages (from tensorboard<3,>=2.3.0->tensorflow==2.3) (57.4.0)\n",
            "Requirement already satisfied: werkzeug>=0.11.15 in /usr/local/lib/python3.7/dist-packages (from tensorboard<3,>=2.3.0->tensorflow==2.3) (1.0.1)\n",
            "Requirement already satisfied: tensorboard-plugin-wit>=1.6.0 in /usr/local/lib/python3.7/dist-packages (from tensorboard<3,>=2.3.0->tensorflow==2.3) (1.8.1)\n",
            "Requirement already satisfied: markdown>=2.6.8 in /usr/local/lib/python3.7/dist-packages (from tensorboard<3,>=2.3.0->tensorflow==2.3) (3.3.6)\n",
            "Requirement already satisfied: pyasn1-modules>=0.2.1 in /usr/local/lib/python3.7/dist-packages (from google-auth<3,>=1.6.3->tensorboard<3,>=2.3.0->tensorflow==2.3) (0.2.8)\n",
            "Requirement already satisfied: rsa<5,>=3.1.4 in /usr/local/lib/python3.7/dist-packages (from google-auth<3,>=1.6.3->tensorboard<3,>=2.3.0->tensorflow==2.3) (4.8)\n",
            "Requirement already satisfied: cachetools<5.0,>=2.0.0 in /usr/local/lib/python3.7/dist-packages (from google-auth<3,>=1.6.3->tensorboard<3,>=2.3.0->tensorflow==2.3) (4.2.4)\n",
            "Requirement already satisfied: requests-oauthlib>=0.7.0 in /usr/local/lib/python3.7/dist-packages (from google-auth-oauthlib<0.5,>=0.4.1->tensorboard<3,>=2.3.0->tensorflow==2.3) (1.3.1)\n",
            "Requirement already satisfied: importlib-metadata>=4.4 in /usr/local/lib/python3.7/dist-packages (from markdown>=2.6.8->tensorboard<3,>=2.3.0->tensorflow==2.3) (4.11.3)\n",
            "Requirement already satisfied: zipp>=0.5 in /usr/local/lib/python3.7/dist-packages (from importlib-metadata>=4.4->markdown>=2.6.8->tensorboard<3,>=2.3.0->tensorflow==2.3) (3.8.0)\n",
            "Requirement already satisfied: typing-extensions>=3.6.4 in /usr/local/lib/python3.7/dist-packages (from importlib-metadata>=4.4->markdown>=2.6.8->tensorboard<3,>=2.3.0->tensorflow==2.3) (4.2.0)\n",
            "Requirement already satisfied: pyasn1<0.5.0,>=0.4.6 in /usr/local/lib/python3.7/dist-packages (from pyasn1-modules>=0.2.1->google-auth<3,>=1.6.3->tensorboard<3,>=2.3.0->tensorflow==2.3) (0.4.8)\n",
            "Requirement already satisfied: urllib3!=1.25.0,!=1.25.1,<1.26,>=1.21.1 in /usr/local/lib/python3.7/dist-packages (from requests->spektral==0.6.1) (1.24.3)\n",
            "Requirement already satisfied: certifi>=2017.4.17 in /usr/local/lib/python3.7/dist-packages (from requests->spektral==0.6.1) (2021.10.8)\n",
            "Requirement already satisfied: idna<3,>=2.5 in /usr/local/lib/python3.7/dist-packages (from requests->spektral==0.6.1) (2.10)\n",
            "Requirement already satisfied: chardet<4,>=3.0.2 in /usr/local/lib/python3.7/dist-packages (from requests->spektral==0.6.1) (3.0.4)\n",
            "Requirement already satisfied: oauthlib>=3.0.0 in /usr/local/lib/python3.7/dist-packages (from requests-oauthlib>=0.7.0->google-auth-oauthlib<0.5,>=0.4.1->tensorboard<3,>=2.3.0->tensorflow==2.3) (3.2.0)\n",
            "Requirement already satisfied: pytz>=2017.3 in /usr/local/lib/python3.7/dist-packages (from pandas->spektral==0.6.1) (2022.1)\n",
            "Requirement already satisfied: python-dateutil>=2.7.3 in /usr/local/lib/python3.7/dist-packages (from pandas->spektral==0.6.1) (2.8.2)\n",
            "Requirement already satisfied: threadpoolctl>=2.0.0 in /usr/local/lib/python3.7/dist-packages (from scikit-learn->spektral==0.6.1) (3.1.0)\n",
            "Installing collected packages: numpy, tensorflow-estimator, h5py, gast, tensorflow, spektral\n",
            "  Attempting uninstall: numpy\n",
            "    Found existing installation: numpy 1.21.6\n",
            "    Uninstalling numpy-1.21.6:\n",
            "      Successfully uninstalled numpy-1.21.6\n",
            "  Attempting uninstall: tensorflow-estimator\n",
            "    Found existing installation: tensorflow-estimator 2.8.0\n",
            "    Uninstalling tensorflow-estimator-2.8.0:\n",
            "      Successfully uninstalled tensorflow-estimator-2.8.0\n",
            "  Attempting uninstall: h5py\n",
            "    Found existing installation: h5py 3.1.0\n",
            "    Uninstalling h5py-3.1.0:\n",
            "      Successfully uninstalled h5py-3.1.0\n",
            "  Attempting uninstall: gast\n",
            "    Found existing installation: gast 0.5.3\n",
            "    Uninstalling gast-0.5.3:\n",
            "      Successfully uninstalled gast-0.5.3\n",
            "  Attempting uninstall: tensorflow\n",
            "    Found existing installation: tensorflow 2.8.0\n",
            "    Uninstalling tensorflow-2.8.0:\n",
            "      Successfully uninstalled tensorflow-2.8.0\n",
            "\u001b[31mERROR: pip's dependency resolver does not currently take into account all the packages that are installed. This behaviour is the source of the following dependency conflicts.\n",
            "tables 3.7.0 requires numpy>=1.19.0, but you have numpy 1.18.5 which is incompatible.\n",
            "jaxlib 0.3.2+cuda11.cudnn805 requires numpy>=1.19, but you have numpy 1.18.5 which is incompatible.\n",
            "jax 0.3.4 requires numpy>=1.19, but you have numpy 1.18.5 which is incompatible.\n",
            "datascience 0.10.6 requires folium==0.2.1, but you have folium 0.8.3 which is incompatible.\n",
            "albumentations 0.1.12 requires imgaug<0.2.7,>=0.2.5, but you have imgaug 0.2.9 which is incompatible.\u001b[0m\n",
            "Successfully installed gast-0.3.3 h5py-2.10.0 numpy-1.18.5 spektral-0.6.1 tensorflow-2.3.0 tensorflow-estimator-2.3.0\n"
          ]
        },
        {
          "output_type": "display_data",
          "data": {
            "application/vnd.colab-display-data+json": {
              "pip_warning": {
                "packages": [
                  "numpy"
                ]
              }
            }
          },
          "metadata": {}
        }
      ]
    },
    {
      "cell_type": "code",
      "execution_count": null,
      "metadata": {
        "id": "a0Wir25BHPk-"
      },
      "outputs": [],
      "source": [
        "#importing dependencies\n",
        "\n",
        "import numpy as np\n",
        "import os\n",
        "import networkx as nx\n",
        "from tensorflow.keras.utils import to_categorical\n",
        "from sklearn.preprocessing import LabelEncoder\n",
        "from sklearn.utils import shuffle\n",
        "from sklearn.metrics import classification_report\n",
        "\n",
        "import spektral\n",
        "from tensorflow import keras \n",
        "from tensorflow.python.ops import gen_sparse_ops\n",
        "from spektral.layers import GraphConv\n",
        "\n",
        "from tensorflow.keras.models import Model\n",
        "from tensorflow.keras.layers import Input, Dropout, Dense\n",
        "from tensorflow.keras import Sequential\n",
        "from tensorflow.keras.optimizers import Adam\n",
        "from tensorflow.keras.callbacks import TensorBoard, EarlyStopping\n",
        "import tensorflow as tf\n",
        "from tensorflow.keras.regularizers import l2\n"
      ]
    },
    {
      "cell_type": "markdown",
      "metadata": {
        "id": "6XTjH_lGHPlC"
      },
      "source": [
        "<h2> Data Loading and Preprocessing </h2><br>\n",
        "The edges used are connecting the  (from file <b>cora.cites</b>).<br>\n",
        "The nodes are loaded from file <b>cora.content</b>."
      ]
    },
    {
      "cell_type": "code",
      "execution_count": null,
      "metadata": {
        "id": "J8nrYH0tHPlD"
      },
      "outputs": [],
      "source": [
        "#loading the data\n",
        "\n",
        "all_data = []\n",
        "all_edges = []\n",
        "\n",
        "for root,dirs,files in os.walk('/content/gdrive/MyDrive/TDL_UNIT_5/cora'):\n",
        "    for file in files:\n",
        "        if '.content' in file:\n",
        "            with open(os.path.join(root,file),'r') as f:\n",
        "                all_data.extend(f.read().splitlines())\n",
        "        elif 'cites' in file:\n",
        "            with open(os.path.join(root,file),'r') as f:\n",
        "                all_edges.extend(f.read().splitlines())\n",
        "\n",
        "                \n",
        "#Shuffle the data because the raw data is ordered based on the label\n",
        "random_state = 77\n",
        "all_data = shuffle(all_data,random_state=random_state)"
      ]
    },
    {
      "cell_type": "markdown",
      "metadata": {
        "id": "-movY6IdHPlF"
      },
      "source": [
        "In <b>cora.content</b> file:<br>\n",
        "The <b>first</b> element indicates the <b>node name</b><br>\n",
        "The <b>second</b> until the last second elements indicate the <b>node features</b><br>\n",
        "The <b>last</b> element indicates the <b>label of that particular node</b><br>\n",
        "\n",
        "In <b>cora.cites</b> file:<br>\n",
        "Each line indicates the tuple of connected nodes\n",
        "\n",
        "\n",
        "<h3>Parsing the data</h3>"
      ]
    },
    {
      "cell_type": "code",
      "execution_count": null,
      "metadata": {
        "id": "X4Qvacg_HPlH",
        "outputId": "e1a13fe0-2142-45ba-bbc7-02e0721ac339",
        "colab": {
          "base_uri": "https://localhost:8080/"
        }
      },
      "outputs": [
        {
          "output_type": "stream",
          "name": "stdout",
          "text": [
            "X shape:  (2708, 1433)\n",
            "\n",
            "Number of nodes (N):  2708\n",
            "\n",
            "Number of features (F) of each node:  1433\n",
            "\n",
            "Categories:  {'Rule_Learning', 'Neural_Networks', 'Theory', 'Reinforcement_Learning', 'Genetic_Algorithms', 'Probabilistic_Methods', 'Case_Based'}\n",
            "\n",
            "Number of classes:  7\n"
          ]
        }
      ],
      "source": [
        "#parse the data\n",
        "labels = []\n",
        "nodes = []\n",
        "X = []\n",
        "\n",
        "for i,data in enumerate(all_data):\n",
        "    elements = data.split('\\t')\n",
        "    labels.append(elements[-1])\n",
        "    X.append(elements[1:-1])\n",
        "    nodes.append(elements[0])\n",
        "\n",
        "X = np.array(X,dtype=int)\n",
        "N = X.shape[0] #the number of nodes\n",
        "F = X.shape[1] #the size of node features\n",
        "print('X shape: ', X.shape)\n",
        "\n",
        "\n",
        "#parse the edge\n",
        "edge_list=[]\n",
        "for edge in all_edges:\n",
        "    e = edge.split('\\t')\n",
        "    edge_list.append((e[0],e[1]))\n",
        "\n",
        "print('\\nNumber of nodes (N): ', N)\n",
        "print('\\nNumber of features (F) of each node: ', F)\n",
        "print('\\nCategories: ', set(labels))\n",
        "\n",
        "num_classes = len(set(labels))\n",
        "print('\\nNumber of classes: ', num_classes)"
      ]
    },
    {
      "cell_type": "markdown",
      "metadata": {
        "id": "LoHp4BURHPlK"
      },
      "source": [
        "<h3> Select examples for training, validation, and test then set the mask</h3>"
      ]
    },
    {
      "cell_type": "code",
      "execution_count": null,
      "metadata": {
        "id": "suJAtMkLHPlM"
      },
      "outputs": [],
      "source": [
        "def limit_data(labels,limit=20,val_num=500,test_num=1000):\n",
        "    '''\n",
        "    Get the index of train, validation, and test data\n",
        "    '''\n",
        "    label_counter = dict((l, 0) for l in labels)\n",
        "    train_idx = []\n",
        "\n",
        "    for i in range(len(labels)):\n",
        "        label = labels[i]\n",
        "        if label_counter[label]<limit:\n",
        "            #add the example to the training data\n",
        "            train_idx.append(i)\n",
        "            label_counter[label]+=1\n",
        "        \n",
        "        #exit the loop once we found 20 examples for each class\n",
        "        if all(count == limit for count in label_counter.values()):\n",
        "            break\n",
        "    \n",
        "    #get the indices that do not go to traning data\n",
        "    rest_idx = [x for x in range(len(labels)) if x not in train_idx]\n",
        "    #get the first val_num\n",
        "    val_idx = rest_idx[:val_num]\n",
        "    test_idx = rest_idx[val_num:(val_num+test_num)]\n",
        "    return train_idx, val_idx,test_idx\n",
        "\n",
        "\n",
        "train_idx,val_idx,test_idx = limit_data(labels)"
      ]
    },
    {
      "cell_type": "code",
      "execution_count": null,
      "metadata": {
        "id": "gPuzWYQMHPlO"
      },
      "outputs": [],
      "source": [
        "#set the mask\n",
        "train_mask = np.zeros((N,),dtype=bool)\n",
        "train_mask[train_idx] = True\n",
        "\n",
        "val_mask = np.zeros((N,),dtype=bool)\n",
        "val_mask[val_idx] = True\n",
        "\n",
        "test_mask = np.zeros((N,),dtype=bool)\n",
        "test_mask[test_idx] = True"
      ]
    },
    {
      "cell_type": "markdown",
      "metadata": {
        "id": "G78da-eyHPlT"
      },
      "source": [
        "<h3>Convert the labels to one hot encoding</h3>"
      ]
    },
    {
      "cell_type": "code",
      "execution_count": null,
      "metadata": {
        "id": "FEEkE4oZHPlT"
      },
      "outputs": [],
      "source": [
        "def encode_label(labels):\n",
        "    label_encoder = LabelEncoder()\n",
        "    labels = label_encoder.fit_transform(labels)\n",
        "    labels = to_categorical(labels)\n",
        "    return labels, label_encoder.classes_\n",
        "\n",
        "labels_encoded, classes = encode_label(labels)"
      ]
    },
    {
      "cell_type": "markdown",
      "metadata": {
        "id": "p5aD57NEHPlU"
      },
      "source": [
        "<h3>Build a graph on NetworkX using the obtained nodes and edges list</h3>"
      ]
    },
    {
      "cell_type": "code",
      "execution_count": null,
      "metadata": {
        "id": "HFwSdU4xHPlV",
        "outputId": "e960a560-6ab5-45a7-b0b9-6a1091c9ec0a",
        "colab": {
          "base_uri": "https://localhost:8080/"
        }
      },
      "outputs": [
        {
          "output_type": "stream",
          "name": "stdout",
          "text": [
            "Graph info:  Graph with 2708 nodes and 5278 edges\n"
          ]
        }
      ],
      "source": [
        "#build the graph\n",
        "G = nx.Graph()\n",
        "G.add_nodes_from(nodes)\n",
        "G.add_edges_from(edge_list)\n",
        "\n",
        "#obtain the adjacency matrix (A)\n",
        "A = nx.adjacency_matrix(G)\n",
        "print('Graph info: ', nx.info(G))"
      ]
    },
    {
      "cell_type": "markdown",
      "metadata": {
        "id": "skGu1AlaHPlW"
      },
      "source": [
        "<h2> Building and Training Graph Convolutional Networks </h2>"
      ]
    },
    {
      "cell_type": "code",
      "execution_count": null,
      "metadata": {
        "id": "uEwwzxm7HPlW",
        "outputId": "a3e09ddd-8dd8-449e-a207-61f175327ff0",
        "colab": {
          "base_uri": "https://localhost:8080/"
        }
      },
      "outputs": [
        {
          "output_type": "stream",
          "name": "stdout",
          "text": [
            "Model: \"functional_1\"\n",
            "__________________________________________________________________________________________________\n",
            "Layer (type)                    Output Shape         Param #     Connected to                     \n",
            "==================================================================================================\n",
            "input_1 (InputLayer)            [(None, 1433)]       0                                            \n",
            "__________________________________________________________________________________________________\n",
            "dropout (Dropout)               (None, 1433)         0           input_1[0][0]                    \n",
            "__________________________________________________________________________________________________\n",
            "input_2 (InputLayer)            [(None, 2708)]       0                                            \n",
            "__________________________________________________________________________________________________\n",
            "graph_conv (GraphConv)          (None, 16)           22928       dropout[0][0]                    \n",
            "                                                                 input_2[0][0]                    \n",
            "__________________________________________________________________________________________________\n",
            "dropout_1 (Dropout)             (None, 16)           0           graph_conv[0][0]                 \n",
            "__________________________________________________________________________________________________\n",
            "graph_conv_1 (GraphConv)        (None, 7)            112         dropout_1[0][0]                  \n",
            "                                                                 input_2[0][0]                    \n",
            "==================================================================================================\n",
            "Total params: 23,040\n",
            "Trainable params: 23,040\n",
            "Non-trainable params: 0\n",
            "__________________________________________________________________________________________________\n"
          ]
        }
      ],
      "source": [
        "# Parameters\n",
        "channels = 16           # Number of channels in the first layer\n",
        "dropout = 0.5           # Dropout rate for the features\n",
        "l2_reg = 5e-4           # L2 regularization rate\n",
        "learning_rate = 1e-2    # Learning rate\n",
        "epochs = 100           # Number of training epochs\n",
        "es_patience = 10        # Patience for early stopping\n",
        "\n",
        "# Preprocessing operations\n",
        "A = GraphConv.preprocess(A).astype('f4')\n",
        "\n",
        "# Model definition\n",
        "X_in = Input(shape=(F, ))\n",
        "fltr_in = Input((N, ), sparse=True)\n",
        "\n",
        "dropout_1 = Dropout(dropout)(X_in)\n",
        "graph_conv_1 = GraphConv(channels,\n",
        "                         activation='relu',\n",
        "                         kernel_regularizer=l2(l2_reg),\n",
        "                         use_bias=False)([dropout_1, fltr_in])\n",
        "\n",
        "dropout_2 = Dropout(dropout)(graph_conv_1)\n",
        "graph_conv_2 = GraphConv(num_classes,\n",
        "                         activation='softmax',\n",
        "                         use_bias=False)([dropout_2, fltr_in])\n",
        "\n",
        "# Build model\n",
        "model = Model(inputs=[X_in, fltr_in], outputs=graph_conv_2)\n",
        "optimizer = Adam(lr=learning_rate)\n",
        "model.compile(optimizer=optimizer,\n",
        "              loss='categorical_crossentropy',\n",
        "              weighted_metrics=['acc'])\n",
        "model.summary()\n"
      ]
    },
    {
      "cell_type": "code",
      "execution_count": null,
      "metadata": {
        "id": "9adyQwblHPlX",
        "outputId": "6761379d-a317-4e92-ff39-f4f243fc1d5f",
        "colab": {
          "base_uri": "https://localhost:8080/"
        }
      },
      "outputs": [
        {
          "output_type": "stream",
          "name": "stdout",
          "text": [
            "Epoch 1/100\n",
            "1/1 [==============================] - 1s 703ms/step - loss: 0.1159 - acc: 0.1857 - val_loss: 0.3586 - val_acc: 0.4980\n",
            "Epoch 2/100\n",
            "1/1 [==============================] - 0s 76ms/step - loss: 0.1082 - acc: 0.3643 - val_loss: 0.3459 - val_acc: 0.6140\n",
            "Epoch 3/100\n",
            "1/1 [==============================] - 0s 81ms/step - loss: 0.1020 - acc: 0.5929 - val_loss: 0.3322 - val_acc: 0.6500\n",
            "Epoch 4/100\n",
            "1/1 [==============================] - 0s 73ms/step - loss: 0.0962 - acc: 0.6214 - val_loss: 0.3188 - val_acc: 0.6440\n",
            "Epoch 5/100\n",
            "1/1 [==============================] - 0s 73ms/step - loss: 0.0904 - acc: 0.6500 - val_loss: 0.3070 - val_acc: 0.6640\n",
            "Epoch 6/100\n",
            "1/1 [==============================] - 0s 81ms/step - loss: 0.0851 - acc: 0.7714 - val_loss: 0.2968 - val_acc: 0.6800\n",
            "Epoch 7/100\n",
            "1/1 [==============================] - 0s 76ms/step - loss: 0.0820 - acc: 0.7786 - val_loss: 0.2879 - val_acc: 0.6860\n",
            "Epoch 8/100\n",
            "1/1 [==============================] - 0s 78ms/step - loss: 0.0786 - acc: 0.7500 - val_loss: 0.2803 - val_acc: 0.6920\n",
            "Epoch 9/100\n",
            "1/1 [==============================] - 0s 88ms/step - loss: 0.0762 - acc: 0.7571 - val_loss: 0.2730 - val_acc: 0.6960\n",
            "Epoch 10/100\n",
            "1/1 [==============================] - 0s 144ms/step - loss: 0.0733 - acc: 0.8714 - val_loss: 0.2663 - val_acc: 0.7000\n",
            "Epoch 11/100\n",
            "1/1 [==============================] - 0s 95ms/step - loss: 0.0708 - acc: 0.8286 - val_loss: 0.2595 - val_acc: 0.7220\n",
            "Epoch 12/100\n",
            "1/1 [==============================] - 0s 118ms/step - loss: 0.0693 - acc: 0.8429 - val_loss: 0.2530 - val_acc: 0.7300\n",
            "Epoch 13/100\n",
            "1/1 [==============================] - 0s 168ms/step - loss: 0.0680 - acc: 0.8500 - val_loss: 0.2469 - val_acc: 0.7460\n",
            "Epoch 14/100\n",
            "1/1 [==============================] - 0s 100ms/step - loss: 0.0653 - acc: 0.8643 - val_loss: 0.2409 - val_acc: 0.7540\n",
            "Epoch 15/100\n",
            "1/1 [==============================] - 0s 156ms/step - loss: 0.0657 - acc: 0.8643 - val_loss: 0.2353 - val_acc: 0.7640\n",
            "Epoch 16/100\n",
            "1/1 [==============================] - 0s 131ms/step - loss: 0.0645 - acc: 0.8500 - val_loss: 0.2300 - val_acc: 0.7740\n",
            "Epoch 17/100\n",
            "1/1 [==============================] - 0s 169ms/step - loss: 0.0613 - acc: 0.9071 - val_loss: 0.2251 - val_acc: 0.7780\n",
            "Epoch 18/100\n",
            "1/1 [==============================] - 0s 123ms/step - loss: 0.0606 - acc: 0.9071 - val_loss: 0.2202 - val_acc: 0.7800\n",
            "Epoch 19/100\n",
            "1/1 [==============================] - 0s 131ms/step - loss: 0.0586 - acc: 0.9071 - val_loss: 0.2155 - val_acc: 0.7840\n",
            "Epoch 20/100\n",
            "1/1 [==============================] - 0s 143ms/step - loss: 0.0591 - acc: 0.9143 - val_loss: 0.2112 - val_acc: 0.7800\n",
            "Epoch 21/100\n",
            "1/1 [==============================] - 0s 124ms/step - loss: 0.0568 - acc: 0.9143 - val_loss: 0.2076 - val_acc: 0.7800\n",
            "Epoch 22/100\n",
            "1/1 [==============================] - 0s 154ms/step - loss: 0.0584 - acc: 0.9286 - val_loss: 0.2046 - val_acc: 0.7860\n",
            "Epoch 23/100\n",
            "1/1 [==============================] - 0s 137ms/step - loss: 0.0546 - acc: 0.9357 - val_loss: 0.2018 - val_acc: 0.7960\n",
            "Epoch 24/100\n",
            "1/1 [==============================] - 0s 197ms/step - loss: 0.0541 - acc: 0.9143 - val_loss: 0.1996 - val_acc: 0.7940\n",
            "Epoch 25/100\n",
            "1/1 [==============================] - 0s 166ms/step - loss: 0.0537 - acc: 0.9143 - val_loss: 0.1976 - val_acc: 0.7920\n",
            "Epoch 26/100\n",
            "1/1 [==============================] - 0s 165ms/step - loss: 0.0556 - acc: 0.9143 - val_loss: 0.1962 - val_acc: 0.7900\n",
            "Epoch 27/100\n",
            "1/1 [==============================] - 0s 126ms/step - loss: 0.0521 - acc: 0.9357 - val_loss: 0.1942 - val_acc: 0.7900\n",
            "Epoch 28/100\n",
            "1/1 [==============================] - 0s 159ms/step - loss: 0.0509 - acc: 0.9571 - val_loss: 0.1920 - val_acc: 0.7880\n",
            "Epoch 29/100\n",
            "1/1 [==============================] - 0s 137ms/step - loss: 0.0495 - acc: 0.9214 - val_loss: 0.1896 - val_acc: 0.7940\n",
            "Epoch 30/100\n",
            "1/1 [==============================] - 0s 115ms/step - loss: 0.0509 - acc: 0.9143 - val_loss: 0.1869 - val_acc: 0.7860\n",
            "Epoch 31/100\n",
            "1/1 [==============================] - 0s 113ms/step - loss: 0.0473 - acc: 0.9071 - val_loss: 0.1847 - val_acc: 0.7860\n",
            "Epoch 32/100\n",
            "1/1 [==============================] - 0s 114ms/step - loss: 0.0495 - acc: 0.9000 - val_loss: 0.1825 - val_acc: 0.7940\n",
            "Epoch 33/100\n",
            "1/1 [==============================] - 0s 141ms/step - loss: 0.0479 - acc: 0.9571 - val_loss: 0.1807 - val_acc: 0.7960\n",
            "Epoch 34/100\n",
            "1/1 [==============================] - 0s 249ms/step - loss: 0.0457 - acc: 0.9286 - val_loss: 0.1794 - val_acc: 0.7940\n",
            "Epoch 35/100\n",
            "1/1 [==============================] - 0s 175ms/step - loss: 0.0440 - acc: 0.9500 - val_loss: 0.1786 - val_acc: 0.7960\n",
            "Epoch 36/100\n",
            "1/1 [==============================] - 0s 157ms/step - loss: 0.0460 - acc: 0.9143 - val_loss: 0.1777 - val_acc: 0.8000\n",
            "Epoch 37/100\n",
            "1/1 [==============================] - 0s 168ms/step - loss: 0.0473 - acc: 0.9286 - val_loss: 0.1769 - val_acc: 0.7960\n",
            "Epoch 38/100\n",
            "1/1 [==============================] - 0s 167ms/step - loss: 0.0436 - acc: 0.9500 - val_loss: 0.1756 - val_acc: 0.7980\n",
            "Epoch 39/100\n",
            "1/1 [==============================] - 0s 120ms/step - loss: 0.0428 - acc: 0.9500 - val_loss: 0.1742 - val_acc: 0.7920\n",
            "Epoch 40/100\n",
            "1/1 [==============================] - 0s 98ms/step - loss: 0.0423 - acc: 0.9571 - val_loss: 0.1729 - val_acc: 0.7820\n",
            "Epoch 41/100\n",
            "1/1 [==============================] - 0s 118ms/step - loss: 0.0427 - acc: 0.9643 - val_loss: 0.1715 - val_acc: 0.7780\n",
            "Epoch 42/100\n",
            "1/1 [==============================] - 0s 109ms/step - loss: 0.0418 - acc: 0.9714 - val_loss: 0.1696 - val_acc: 0.7780\n",
            "Epoch 43/100\n",
            "1/1 [==============================] - 0s 115ms/step - loss: 0.0429 - acc: 0.9643 - val_loss: 0.1675 - val_acc: 0.7760\n",
            "Epoch 44/100\n",
            "1/1 [==============================] - 0s 127ms/step - loss: 0.0429 - acc: 0.9286 - val_loss: 0.1660 - val_acc: 0.7800\n",
            "Epoch 45/100\n",
            "1/1 [==============================] - 0s 128ms/step - loss: 0.0430 - acc: 0.9214 - val_loss: 0.1648 - val_acc: 0.7880\n",
            "Epoch 46/100\n",
            "1/1 [==============================] - 0s 123ms/step - loss: 0.0416 - acc: 0.9357 - val_loss: 0.1642 - val_acc: 0.7900\n",
            "Epoch 47/100\n",
            "1/1 [==============================] - 0s 124ms/step - loss: 0.0407 - acc: 0.9429 - val_loss: 0.1638 - val_acc: 0.7920\n",
            "Epoch 48/100\n",
            "1/1 [==============================] - 0s 123ms/step - loss: 0.0405 - acc: 0.9500 - val_loss: 0.1640 - val_acc: 0.7860\n",
            "Epoch 49/100\n",
            "1/1 [==============================] - 0s 152ms/step - loss: 0.0381 - acc: 0.9714 - val_loss: 0.1638 - val_acc: 0.7920\n",
            "Epoch 50/100\n",
            "1/1 [==============================] - 0s 137ms/step - loss: 0.0398 - acc: 0.9643 - val_loss: 0.1634 - val_acc: 0.7940\n",
            "Epoch 51/100\n",
            "1/1 [==============================] - 0s 116ms/step - loss: 0.0378 - acc: 0.9786 - val_loss: 0.1626 - val_acc: 0.7900\n",
            "Epoch 52/100\n",
            "1/1 [==============================] - 0s 105ms/step - loss: 0.0396 - acc: 0.9786 - val_loss: 0.1613 - val_acc: 0.7880\n",
            "Epoch 53/100\n",
            "1/1 [==============================] - 0s 127ms/step - loss: 0.0391 - acc: 0.9357 - val_loss: 0.1604 - val_acc: 0.7880\n",
            "Epoch 54/100\n",
            "1/1 [==============================] - 0s 181ms/step - loss: 0.0382 - acc: 0.9571 - val_loss: 0.1594 - val_acc: 0.7920\n",
            "Epoch 55/100\n",
            "1/1 [==============================] - 0s 123ms/step - loss: 0.0376 - acc: 0.9714 - val_loss: 0.1587 - val_acc: 0.7900\n",
            "Epoch 56/100\n",
            "1/1 [==============================] - 0s 110ms/step - loss: 0.0349 - acc: 0.9500 - val_loss: 0.1582 - val_acc: 0.7920\n",
            "Epoch 57/100\n",
            "1/1 [==============================] - 0s 108ms/step - loss: 0.0364 - acc: 0.9714 - val_loss: 0.1579 - val_acc: 0.7940\n",
            "Epoch 58/100\n",
            "1/1 [==============================] - 0s 159ms/step - loss: 0.0367 - acc: 0.9571 - val_loss: 0.1570 - val_acc: 0.7900\n",
            "Epoch 59/100\n",
            "1/1 [==============================] - 0s 127ms/step - loss: 0.0359 - acc: 0.9500 - val_loss: 0.1563 - val_acc: 0.7960\n",
            "Epoch 60/100\n",
            "1/1 [==============================] - 0s 116ms/step - loss: 0.0342 - acc: 0.9714 - val_loss: 0.1551 - val_acc: 0.7940\n",
            "Epoch 61/100\n",
            "1/1 [==============================] - 0s 129ms/step - loss: 0.0330 - acc: 0.9571 - val_loss: 0.1547 - val_acc: 0.7920\n",
            "Epoch 62/100\n",
            "1/1 [==============================] - 0s 165ms/step - loss: 0.0339 - acc: 0.9786 - val_loss: 0.1549 - val_acc: 0.7920\n",
            "Epoch 63/100\n",
            "1/1 [==============================] - 0s 122ms/step - loss: 0.0343 - acc: 0.9429 - val_loss: 0.1541 - val_acc: 0.7920\n",
            "Epoch 64/100\n",
            "1/1 [==============================] - 0s 112ms/step - loss: 0.0376 - acc: 0.9357 - val_loss: 0.1531 - val_acc: 0.7940\n",
            "Epoch 65/100\n",
            "1/1 [==============================] - 0s 98ms/step - loss: 0.0376 - acc: 0.9500 - val_loss: 0.1519 - val_acc: 0.7920\n",
            "Epoch 66/100\n",
            "1/1 [==============================] - 0s 124ms/step - loss: 0.0357 - acc: 0.9357 - val_loss: 0.1510 - val_acc: 0.7940\n",
            "Epoch 67/100\n",
            "1/1 [==============================] - 0s 130ms/step - loss: 0.0354 - acc: 0.9571 - val_loss: 0.1504 - val_acc: 0.8020\n",
            "Epoch 68/100\n",
            "1/1 [==============================] - 0s 130ms/step - loss: 0.0335 - acc: 0.9714 - val_loss: 0.1511 - val_acc: 0.8120\n",
            "Epoch 69/100\n",
            "1/1 [==============================] - 0s 177ms/step - loss: 0.0345 - acc: 0.9571 - val_loss: 0.1517 - val_acc: 0.8140\n",
            "Epoch 70/100\n",
            "1/1 [==============================] - 0s 196ms/step - loss: 0.0353 - acc: 0.9286 - val_loss: 0.1528 - val_acc: 0.8080\n",
            "Epoch 71/100\n",
            "1/1 [==============================] - 0s 147ms/step - loss: 0.0346 - acc: 0.9786 - val_loss: 0.1532 - val_acc: 0.8020\n",
            "Epoch 72/100\n",
            "1/1 [==============================] - 0s 179ms/step - loss: 0.0334 - acc: 0.9429 - val_loss: 0.1529 - val_acc: 0.8000\n",
            "Epoch 73/100\n",
            "1/1 [==============================] - 0s 125ms/step - loss: 0.0332 - acc: 0.9357 - val_loss: 0.1526 - val_acc: 0.7920\n",
            "Epoch 74/100\n",
            "1/1 [==============================] - 0s 163ms/step - loss: 0.0321 - acc: 0.9643 - val_loss: 0.1520 - val_acc: 0.7840\n",
            "Epoch 75/100\n",
            "1/1 [==============================] - 0s 111ms/step - loss: 0.0335 - acc: 0.9714 - val_loss: 0.1509 - val_acc: 0.7840\n",
            "Epoch 76/100\n",
            "1/1 [==============================] - 0s 133ms/step - loss: 0.0339 - acc: 0.9786 - val_loss: 0.1493 - val_acc: 0.7920\n",
            "Epoch 77/100\n",
            "1/1 [==============================] - 0s 105ms/step - loss: 0.0312 - acc: 0.9500 - val_loss: 0.1483 - val_acc: 0.7960\n",
            "Epoch 78/100\n",
            "1/1 [==============================] - 0s 124ms/step - loss: 0.0297 - acc: 1.0000 - val_loss: 0.1480 - val_acc: 0.7960\n",
            "Epoch 79/100\n",
            "1/1 [==============================] - 0s 137ms/step - loss: 0.0333 - acc: 0.9714 - val_loss: 0.1480 - val_acc: 0.7960\n",
            "Epoch 80/100\n",
            "1/1 [==============================] - 0s 149ms/step - loss: 0.0338 - acc: 0.9714 - val_loss: 0.1480 - val_acc: 0.7960\n",
            "Epoch 81/100\n",
            "1/1 [==============================] - 0s 176ms/step - loss: 0.0311 - acc: 0.9714 - val_loss: 0.1485 - val_acc: 0.7860\n",
            "Epoch 82/100\n",
            "1/1 [==============================] - 0s 179ms/step - loss: 0.0307 - acc: 0.9500 - val_loss: 0.1492 - val_acc: 0.7840\n",
            "Epoch 83/100\n",
            "1/1 [==============================] - 0s 252ms/step - loss: 0.0316 - acc: 0.9643 - val_loss: 0.1495 - val_acc: 0.7840\n",
            "Epoch 84/100\n",
            "1/1 [==============================] - 0s 215ms/step - loss: 0.0313 - acc: 0.9571 - val_loss: 0.1498 - val_acc: 0.7800\n",
            "Epoch 85/100\n",
            "1/1 [==============================] - 0s 132ms/step - loss: 0.0320 - acc: 0.9643 - val_loss: 0.1498 - val_acc: 0.7760\n",
            "Epoch 86/100\n",
            "1/1 [==============================] - 0s 131ms/step - loss: 0.0308 - acc: 0.9714 - val_loss: 0.1496 - val_acc: 0.7860\n",
            "Epoch 87/100\n",
            "1/1 [==============================] - 0s 253ms/step - loss: 0.0304 - acc: 0.9786 - val_loss: 0.1486 - val_acc: 0.7880\n",
            "Epoch 88/100\n",
            "1/1 [==============================] - 0s 189ms/step - loss: 0.0296 - acc: 0.9857 - val_loss: 0.1478 - val_acc: 0.7860\n",
            "Epoch 89/100\n",
            "1/1 [==============================] - 0s 156ms/step - loss: 0.0295 - acc: 0.9500 - val_loss: 0.1470 - val_acc: 0.7840\n",
            "Epoch 90/100\n",
            "1/1 [==============================] - 0s 181ms/step - loss: 0.0316 - acc: 0.9643 - val_loss: 0.1463 - val_acc: 0.7860\n",
            "Epoch 91/100\n",
            "1/1 [==============================] - 0s 184ms/step - loss: 0.0287 - acc: 0.9714 - val_loss: 0.1455 - val_acc: 0.7860\n",
            "Epoch 92/100\n",
            "1/1 [==============================] - 0s 133ms/step - loss: 0.0314 - acc: 0.9429 - val_loss: 0.1447 - val_acc: 0.7860\n",
            "Epoch 93/100\n",
            "1/1 [==============================] - 0s 100ms/step - loss: 0.0304 - acc: 0.9714 - val_loss: 0.1446 - val_acc: 0.7860\n",
            "Epoch 94/100\n",
            "1/1 [==============================] - 0s 174ms/step - loss: 0.0322 - acc: 0.9786 - val_loss: 0.1453 - val_acc: 0.7980\n",
            "Epoch 95/100\n",
            "1/1 [==============================] - 0s 130ms/step - loss: 0.0286 - acc: 0.9857 - val_loss: 0.1461 - val_acc: 0.7900\n",
            "Epoch 96/100\n",
            "1/1 [==============================] - 0s 155ms/step - loss: 0.0302 - acc: 0.9286 - val_loss: 0.1464 - val_acc: 0.7860\n",
            "Epoch 97/100\n",
            "1/1 [==============================] - 0s 110ms/step - loss: 0.0285 - acc: 0.9857 - val_loss: 0.1463 - val_acc: 0.7920\n",
            "Epoch 98/100\n",
            "1/1 [==============================] - 0s 145ms/step - loss: 0.0287 - acc: 0.9714 - val_loss: 0.1463 - val_acc: 0.7900\n",
            "Epoch 99/100\n",
            "1/1 [==============================] - 0s 150ms/step - loss: 0.0293 - acc: 0.9571 - val_loss: 0.1454 - val_acc: 0.7920\n",
            "Epoch 100/100\n",
            "1/1 [==============================] - 0s 145ms/step - loss: 0.0307 - acc: 0.9357 - val_loss: 0.1450 - val_acc: 0.7900\n"
          ]
        },
        {
          "output_type": "execute_result",
          "data": {
            "text/plain": [
              "<tensorflow.python.keras.callbacks.History at 0x7f50ca603710>"
            ]
          },
          "metadata": {},
          "execution_count": 11
        }
      ],
      "source": [
        "# Train model\n",
        "validation_data = ([X, A], labels_encoded, val_mask)\n",
        "model.fit([X, A],\n",
        "          labels_encoded,\n",
        "          sample_weight=train_mask,\n",
        "          epochs=epochs,\n",
        "          batch_size=N,\n",
        "          validation_data=validation_data,\n",
        "          shuffle=False,\n",
        "          callbacks=[\n",
        "              EarlyStopping(patience=es_patience,  restore_best_weights=True),\n",
        "          ])"
      ]
    },
    {
      "cell_type": "code",
      "execution_count": null,
      "metadata": {
        "id": "3h9yPjMAHPlY",
        "outputId": "27f96e0c-da84-49f2-abab-25b499cc0b31",
        "colab": {
          "base_uri": "https://localhost:8080/"
        }
      },
      "outputs": [
        {
          "output_type": "stream",
          "name": "stdout",
          "text": [
            "GCN Classification Report: \n",
            "                         precision    recall  f1-score   support\n",
            "\n",
            "            Case_Based       0.69      0.82      0.75       114\n",
            "    Genetic_Algorithms       0.87      0.89      0.88       156\n",
            "       Neural_Networks       0.83      0.69      0.76       290\n",
            " Probabilistic_Methods       0.80      0.72      0.76       172\n",
            "Reinforcement_Learning       0.69      0.79      0.74        85\n",
            "         Rule_Learning       0.61      0.77      0.68        60\n",
            "                Theory       0.58      0.65      0.62       123\n",
            "\n",
            "              accuracy                           0.75      1000\n",
            "             macro avg       0.73      0.76      0.74      1000\n",
            "          weighted avg       0.76      0.75      0.75      1000\n",
            "\n"
          ]
        }
      ],
      "source": [
        "# Evaluate model\n",
        "X_te = X[test_mask]\n",
        "A_te = A[test_mask,:][:,test_mask]\n",
        "y_te = labels_encoded[test_mask]\n",
        "\n",
        "y_pred = model.predict([X_te, A_te], batch_size=N)\n",
        "report = classification_report(np.argmax(y_te,axis=1), np.argmax(y_pred,axis=1), target_names=classes)\n",
        "print('GCN Classification Report: \\n {}'.format(report))"
      ]
    },
    {
      "cell_type": "code",
      "source": [
        ""
      ],
      "metadata": {
        "id": "pR0Fky_EOOug"
      },
      "execution_count": null,
      "outputs": []
    }
  ],
  "metadata": {
    "kernelspec": {
      "display_name": "Python 3",
      "language": "python",
      "name": "python3"
    },
    "language_info": {
      "codemirror_mode": {
        "name": "ipython",
        "version": 3
      },
      "file_extension": ".py",
      "mimetype": "text/x-python",
      "name": "python",
      "nbconvert_exporter": "python",
      "pygments_lexer": "ipython3",
      "version": "3.6.9"
    },
    "colab": {
      "name": "PES1UG19CS160_407_448_TDL_ASSIGNMENT_5_GNNs.ipynb",
      "provenance": [],
      "collapsed_sections": []
    },
    "accelerator": "GPU"
  },
  "nbformat": 4,
  "nbformat_minor": 0
}